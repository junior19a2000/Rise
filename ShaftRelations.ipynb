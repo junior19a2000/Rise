{
 "cells": [
  {
   "cell_type": "code",
   "execution_count": 1,
   "id": "0bcaffba",
   "metadata": {
    "init_cell": true,
    "slideshow": {
     "slide_type": "skip"
    }
   },
   "outputs": [],
   "source": [
    "# Librerias\n",
    "import ipywidgets as ipw\n",
    "import bqplot as bqp\n",
    "import numpy as np"
   ]
  },
  {
   "cell_type": "code",
   "execution_count": 6,
   "id": "c502d33a",
   "metadata": {},
   "outputs": [
    {
     "data": {
      "application/vnd.jupyter.widget-view+json": {
       "model_id": "94f1414646bf4d7fae63fa250ac8574c",
       "version_major": 2,
       "version_minor": 0
      },
      "text/plain": [
       "HTMLMath(value=\"<font size = '3'; font color = 'black'>$$\\\\sigma _{d} =\\\\frac{S_{y}}{S_{e}}\\\\sqrt{\\\\left(\\\\fra…"
      ]
     },
     "metadata": {},
     "output_type": "display_data"
    }
   ],
   "source": [
    "HTMLMath5 = ipw.HTMLMath(\n",
    "    value = r\"<font size = '3'; font color = 'black'>$$\\sigma =\\frac{S_{y}}{S_{e}}\\sqrt{\\left(\\frac{4M( x) R}{\\pi \\left( R^{4} -r^{4}\\right)}\\right)^{2} +3\\left(\\frac{4V( x)\\left( R^{2} -Rr+r^{2}\\right)}{3\\pi \\left( R^{4} -r^{4}\\right)}\\right)^{2}} +\\sqrt{\\left(\\frac{F( x)}{\\pi \\left( R^{2} -r^{2}\\right)}\\right)^{2} +3\\left(\\frac{2M( x) R}{\\pi \\left( R^{4} -r^{4}\\right)}\\right)^{2}}$$\",\n",
    ")\n",
    "HTMLMath5\n"
   ]
  },
  {
   "cell_type": "code",
   "execution_count": 11,
   "id": "9b052fc5",
   "metadata": {
    "init_cell": true,
    "slideshow": {
     "slide_type": "skip"
    }
   },
   "outputs": [],
   "source": [
    "HTMLMath1 = ipw.HTMLMath(\n",
    "    value = r\"<font size = '3'; font color = 'black'>$$Q=\\frac{D^3-d^3}{12}$$\",\n",
    ")\n",
    "HTMLMath2 = ipw.HTMLMath(\n",
    "    value = r\"<font size = '3'; font color = 'black'>$$I=\\frac{\\pi \\left(D^4-d^4\\right)}{64}$$\",\n",
    ")\n",
    "HTMLMath3 = ipw.HTMLMath(\n",
    "    value = r\"<font size = '3'; font color = 'black'>$$J=\\frac{\\pi \\left(D^4-d^4\\right)}{32}$$\",\n",
    ")\n",
    "HTMLMath4 = ipw.HTMLMath(\n",
    "    value = r\"<font size = '3'; font color = 'black'>$$A=\\frac{\\pi \\left(D^4-d^4\\right)}{4}$$\",\n",
    ")\n",
    "HTMLMath5 = ipw.HTMLMath(\n",
    "    value = r\"<font size = '3'; font color = 'black'>$${V_i}(x) =  - \\sum\\limits_{i = 1}^k {{F_i}}  - {w_i}(x - {x_i}) - \\sum\\limits_{i = 1}^{k} {{w_{i-1}}({x_{i}} - {x_{i-1}})}\\\\{M_i}(x) =  - x\\sum\\limits_{i = 1}^k {{F_i}}  - \\frac{1}{2}{w_i}{(x - {x_i})^2} - x\\sum\\limits_{i = 1}^k {{w_{i - 1}}({x_i} - {x_{i - 1}})}  + {C_{{1_i}}} + {M_i} \\hspace{5mm}para\\;k = 1\\; \\to \\;T$$\",\n",
    ")\n",
    "HTMLMath6 = ipw.HTMLMath(\n",
    "    value = r\"<font size = '3'; font color = 'black'>$${E_i}{I_i}{\\theta _i}(x) = { - \\frac{{{x^2}}}{2}\\sum\\limits_{i = 1}^k {{F_i}}  - \\frac{1}{6}{w_i}{{(x - {x_i})}^3} - \\frac{{{x^2}}}{2}\\sum\\limits_{i = 1}^k {{w_{i - 1}}({x_i} - {x_{i - 1}})}  + {C_{{1_i}}}x + {M_i}x + {C_{{2_i}}}} \\\\{E_i}{I_i}{y_i}(x) = { - \\frac{{{x^3}}}{6}\\sum\\limits_{i = 1}^k {{F_i}}  - \\frac{1}{{24}}{w_i}{{(x - {x_i})}^4} - \\frac{{{x^3}}}{6}\\sum\\limits_{i = 1}^k {{w_{i - 1}}({x_i} - {x_{i - 1}})}  + \\frac{{{C_{{1_i}}}{x^2}}}{2} + \\frac{{{M_i}{x^2}}}{2} + {C_{{2_i}}}x + {C_{{3_i}}}} \\hspace{5mm}para\\;k = 1\\; \\to \\;T$$\",\n",
    ")\n",
    "HTMLMath7 = ipw.HTMLMath(\n",
    "    value = r\"<font size = '3'; font color = 'black'>$$\\sigma=\\sqrt{\\left[\\frac{F( x)}{\\pi \\left( R^{2} -r^{2}\\right)} +\\frac{4M( x) R}{\\pi \\left( R^{4} -r^{4}\\right)}\\right]^{2} +3\\left[\\frac{2M( x) R}{\\pi \\left( R^{4} -r^{4}\\right)} +\\frac{4V( x)\\left( R^{2} -Rr+r^{2}\\right)}{3\\pi \\left( R^{4} -r^{4}\\right)}\\right]^{2}}$$\",\n",
    ")\n",
    "HTMLMath8 = ipw.HTMLMath(\n",
    "    value = r\"<font size = '3'; font color = 'black'>$${\\sigma _{{{\\max }_X}}} = {K_x}\\frac{{M{{(x)}_x}{R_x}}}{{{I_x}}}\\quad para\\;x = 1\\; \\to \\;N$$\",\n",
    ")\n",
    "HTMLMath9 = ipw.HTMLMath(\n",
    "    value = r\"<font size = '3'; font color = 'black'>$$\\sigma=\\frac{S_{y}}{S_{e}}\\sqrt{\\left[\\frac{4M( x) R}{\\pi \\left( R^{4} -r^{4}\\right)}\\right]^{2} +3\\left[\\frac{4V( x)\\left( R^{2} -Rr+r^{2}\\right)}{3\\pi \\left( R^{4} -r^{4}\\right)}\\right]^{2}} +\\sqrt{\\left[\\frac{F( x)}{\\pi \\left( R^{2} -r^{2}\\right)}\\right]^{2} +3\\left[\\frac{2M( x) R}{\\pi \\left( R^{4} -r^{4}\\right)}\\right]^{2}}$$\",\n",
    ")\n",
    "HTMLMath10 = ipw.HTMLMath(\n",
    "    value = r\"<font size = '3'; font color = 'black'>$${\\sigma _{{{\\max }_X}}} = {K_x}\\frac{{S{y_x}}}{{S{e_x}}}(\\sqrt {M_x^2(x) + 4V_x^2(x)}  + \\sqrt {A_x^2(x) + 4T_x^2(x)} )\\quad para\\;x = 1\\; \\to \\;N$$\",\n",
    ")\n",
    "HTMLMath11 = ipw.HTMLMath(\n",
    "    value = r\"<font size = '3'; font color = 'black'>$$F.S{._{estatic{o_K}}} = \\frac{{S{u_k}}}{{{\\sigma _k}}}\\quad para\\;k = 1\\; \\to \\;T$$\",\n",
    ")\n",
    "HTMLMath12 = ipw.HTMLMath(\n",
    "    value = r\"<font size = '3'; font color = 'black'>$$F.S{._{estatico\\;{{\\min }_X}}} = \\frac{{S{u_x}}}{{{\\sigma _{{{\\max }_X}}}}}\\quad para\\;x = 1\\; \\to \\;N$$\",\n",
    ")\n",
    "HTMLMath13 = ipw.HTMLMath(\n",
    "    value = r\"<font size = '3'; font color = 'black'>$$F.S{._{dinamic{o_K}}} = \\frac{{S{u_k}}}{{{\\sigma _k}}}\\quad para\\;k = 1\\; \\to \\;T$$\",\n",
    ")\n",
    "HTMLMath14 = ipw.HTMLMath(\n",
    "    value = r\"<font size = '3'; font color = 'black'>$$F.S{._{dinamico\\;{{\\min }_X}}} = \\frac{{S{u_x}}}{{{\\sigma _{{{\\max }_X}}}}}\\quad para\\;x = 1\\; \\to \\;N$$\",\n",
    ")\n",
    "HTMLMath15 = ipw.HTMLMath(\n",
    "    value = r\"<font size = '3'; font color = 'black'>$$V.C. = \\sum\\limits_{k = 1}^T {\\int\\limits_{{N_k}}^{{N_{k + 1}}} {(y_y^2{{(x)}_k}} }  + y_z^2{(x)_k})$$\",\n",
    ")\n",
    "\n",
    "def hide_formula(self, target):\n",
    "    graph.tooltip = None\n",
    "\n",
    "def show_formula(self, target):\n",
    "    name = target.get('data').get('label') \n",
    "    if name == 'Primer momento de area':\n",
    "        graph.tooltip = HTMLMath1\n",
    "    elif name == 'Segundo momento de area':\n",
    "        graph.tooltip = HTMLMath2\n",
    "    elif name == 'Momento polar de inercia':\n",
    "        graph.tooltip = HTMLMath3\n",
    "    elif name == 'Area de la seccion':\n",
    "        graph.tooltip = HTMLMath4\n",
    "    elif name == 'Reacciones':\n",
    "        graph.tooltip = HTMLMath5\n",
    "    elif name == 'Desplazamientos':\n",
    "        graph.tooltip = HTMLMath6\n",
    "    elif name == 'Esfuerzos estaticos':\n",
    "        graph.tooltip = HTMLMath7\n",
    "    elif name == 'Esfuerzos estaticos maximos':\n",
    "        graph.tooltip = HTMLMath8\n",
    "    elif name == 'Esfuerzos dinamicos':\n",
    "        graph.tooltip = HTMLMath9\n",
    "    elif name == 'Esfuerzos dinamicos maximos':\n",
    "        graph.tooltip = HTMLMath10\n",
    "    elif name == 'F.S. estaticos':\n",
    "        graph.tooltip = HTMLMath11\n",
    "    elif name == 'F.S. estaticos minimos':\n",
    "        graph.tooltip = HTMLMath12\n",
    "    elif name == 'F.S. dinamicos':\n",
    "        graph.tooltip = HTMLMath13\n",
    "    elif name == 'F.S. dinamicos minimos':\n",
    "        graph.tooltip = HTMLMath14\n",
    "    elif name == 'Velocidades criticas':\n",
    "        graph.tooltip = HTMLMath15\n",
    "    else:\n",
    "        graph.tooltip = None\n",
    "\n",
    "node_data = [\n",
    "    {'label': 'Tipos de apoyo', 'shape': 'rect', 'shape_attrs': {'rx': 5, 'ry': 5, 'width': 170, 'height': 30}},\n",
    "    {'label': 'Fuerzas', 'shape': 'rect', 'shape_attrs': {'rx': 5, 'ry': 5, 'width': 170, 'height': 30}},\n",
    "    {'label': 'Momentos', 'shape': 'rect', 'shape_attrs': {'rx': 5, 'ry': 5, 'width': 170, 'height': 30}},\n",
    "    {'label': 'Numero de nodos', 'shape': 'rect', 'shape_attrs': {'rx': 5, 'ry': 5, 'width': 170, 'height': 30}},\n",
    "    {'label': 'Condiciones de operación', 'shape': 'rect', 'shape_attrs': {'rx': 5, 'ry': 5, 'width': 170, 'height': 30}},\n",
    "    {'label': 'Tratamiento superficial', 'shape': 'rect', 'shape_attrs': {'rx': 5, 'ry': 5, 'width': 170, 'height': 30}},\n",
    "    {'label': 'Módulo de elasticidad', 'shape': 'rect', 'shape_attrs': {'rx': 5, 'ry': 5, 'width': 170, 'height': 30}},\n",
    "    {'label': 'Módulo de rigidez', 'shape': 'rect', 'shape_attrs': {'rx': 5, 'ry': 5, 'width': 170, 'height': 30}},\n",
    "    {'label': 'Esfuerzo de fluencia', 'shape': 'rect', 'shape_attrs': {'rx': 5, 'ry': 5, 'width': 170, 'height': 30}},\n",
    "    {'label': 'Esfuerzo de rotura', 'shape': 'rect', 'shape_attrs': {'rx': 5, 'ry': 5, 'width': 170, 'height': 30}},\n",
    "    {'label': 'Densidad', 'shape': 'rect', 'shape_attrs': {'rx': 5, 'ry': 5, 'width': 170, 'height': 30}},\n",
    "    {'label': 'Diametro mayor', 'shape': 'rect', 'shape_attrs': {'rx': 5, 'ry': 5, 'width': 170, 'height': 30}},\n",
    "    {'label': 'Diametro menor', 'shape': 'rect', 'shape_attrs': {'rx': 5, 'ry': 5, 'width': 170, 'height': 30}},\n",
    "    {'label': 'Longitud', 'shape': 'rect', 'shape_attrs': {'rx': 5, 'ry': 5, 'width': 170, 'height': 30}},\n",
    "    {'label': 'Redondeos', 'shape': 'rect', 'shape_attrs': {'rx': 5, 'ry': 5, 'width': 170, 'height': 30}},\n",
    "    {'label': 'Primer momento de area', 'shape': 'rect', 'shape_attrs': {'rx': 5, 'ry': 5, 'width': 170, 'height': 30}},\n",
    "    {'label': 'Segundo momento de area', 'shape': 'rect', 'shape_attrs': {'rx': 5, 'ry': 5, 'width': 170, 'height': 30}},\n",
    "    {'label': 'Momento polar de inercia', 'shape': 'rect', 'shape_attrs': {'rx': 5, 'ry': 5, 'width': 170, 'height': 30}},\n",
    "    {'label': 'Area de la seccion', 'shape': 'rect', 'shape_attrs': {'rx': 5, 'ry': 5, 'width': 170, 'height': 30}},\n",
    "    {'label': 'Reacciones', 'shape': 'rect', 'shape_attrs': {'rx': 5, 'ry': 5, 'width': 170, 'height': 30}},\n",
    "    {'label': 'Desplazamientos', 'shape': 'rect', 'shape_attrs': {'rx': 5, 'ry': 5, 'width': 170, 'height': 30}},\n",
    "    {'label': 'Esfuerzos estaticos', 'shape': 'rect', 'shape_attrs': {'rx': 5, 'ry': 5, 'width': 170, 'height': 30}},\n",
    "    {'label': 'Esfuerzos estaticos maximos', 'shape': 'rect', 'shape_attrs': {'rx': 5, 'ry': 5, 'width': 170, 'height': 30}},\n",
    "    {'label': 'Esfuerzos dinamicos', 'shape': 'rect', 'shape_attrs': {'rx': 5, 'ry': 5, 'width': 170, 'height': 30}},\n",
    "    {'label': 'Esfuerzos dinamicos maximos', 'shape': 'rect', 'shape_attrs': {'rx': 5, 'ry': 5, 'width': 170, 'height': 30}},\n",
    "    {'label': 'F.S. estaticos', 'shape': 'rect', 'shape_attrs': {'rx': 5, 'ry': 5, 'width': 170, 'height': 30}},\n",
    "    {'label': 'F.S. estaticos minimos', 'shape': 'rect', 'shape_attrs': {'rx': 5, 'ry': 5, 'width': 170, 'height': 30}},\n",
    "    {'label': 'F.S. dinamicos', 'shape': 'rect', 'shape_attrs': {'rx': 5, 'ry': 5, 'width': 170, 'height': 30}},\n",
    "    {'label': 'F.S. dinamicos minimos', 'shape': 'rect', 'shape_attrs': {'rx': 5, 'ry': 5, 'width': 170, 'height': 30}},\n",
    "    {'label': 'Velocidades criticas', 'shape': 'rect', 'shape_attrs': {'rx': 5, 'ry': 5, 'width': 170, 'height': 30}},\n",
    "]\n",
    "\n",
    "link_data = [{'source': 0, 'target': 20},\n",
    "             {'source': 1, 'target': 19},\n",
    "             {'source': 2, 'target': 19},\n",
    "             {'source': 4, 'target': 23},\n",
    "             {'source': 5, 'target': 23},\n",
    "             {'source': 6, 'target': 20},\n",
    "             {'source': 7, 'target': 20},\n",
    "             {'source': 8, 'target': 25},\n",
    "             {'source': 8, 'target': 26},\n",
    "             {'source': 9, 'target': 27},\n",
    "             {'source': 9, 'target': 28},\n",
    "             {'source': 10, 'target': 20},\n",
    "             {'source': 11, 'target': 15},\n",
    "             {'source': 11, 'target': 16},\n",
    "             {'source': 11, 'target': 17},\n",
    "             {'source': 11, 'target': 18},\n",
    "             {'source': 12, 'target': 15},\n",
    "             {'source': 12, 'target': 16},\n",
    "             {'source': 12, 'target': 17},\n",
    "             {'source': 12, 'target': 18},\n",
    "             {'source': 13, 'target': 19},\n",
    "             {'source': 14, 'target': 22},\n",
    "             {'source': 14, 'target': 24},\n",
    "             {'source': 15, 'target': 21},\n",
    "             {'source': 15, 'target': 23},\n",
    "             {'source': 16, 'target': 21},\n",
    "             {'source': 16, 'target': 23},\n",
    "             {'source': 17, 'target': 21},\n",
    "             {'source': 17, 'target': 23},\n",
    "             {'source': 18, 'target': 20},\n",
    "             {'source': 18, 'target': 21},\n",
    "             {'source': 19, 'target': 20},\n",
    "             {'source': 20, 'target': 19},\n",
    "             {'source': 20, 'target': 21},\n",
    "             {'source': 20, 'target': 23},\n",
    "             {'source': 20, 'target': 29},\n",
    "             {'source': 21, 'target': 22},\n",
    "             {'source': 21, 'target': 25},\n",
    "             {'source': 22, 'target': 26},\n",
    "             {'source': 23, 'target': 24},\n",
    "             {'source': 23, 'target': 27},\n",
    "             {'source': 24, 'target': 28}]\n",
    "\n",
    "x = np.concatenate((np.array([0] * 6), np.array([50] * 5), np.array([100] * 4), np.array([150] * 4), np.array([200] * 6), np.array([250] * 5)))\n",
    "y = np.concatenate((np.linspace(1, 2 * 6 - 1, 6), np.linspace(2, 2 * 5, 5), np.linspace(3, 2 * 4 + 1, 4), np.linspace(3, 2 * 4 + 1, 4), np.linspace(1, 2 * 6 - 1, 6), np.linspace(2, 2 * 5, 5)))\n",
    "graph = bqp.Graph(node_data = node_data, link_data = link_data, link_type = 'slant_line', hovered_style = {'stroke': 'black', 'stroke-width': '3'}, unhovered_style = {'opacity': '0.1'},\n",
    "              colors=['#F1948A'] * 3 + ['#F4D03F'] * 1 + ['#F1948A'] * 2 + ['#82E0AA'] * 5 + ['#7FB3D5'] * 4 + ['#E5E7E9'] * (len(node_data) - 15),\n",
    "              scales={'x': bqp.LinearScale(), 'y': bqp.LinearScale(), }, x = x, y = y, \n",
    "              directed = True)\n",
    "fig2 = bqp.Figure(marks = [graph], layout = ipw.Layout(width='1400px', height='600px'), fig_margin = dict(left=0, top=0, bottom=0, right=0))\n",
    "graph.on_hover(show_formula)\n",
    "graph.on_element_click(hide_formula)"
   ]
  },
  {
   "cell_type": "code",
   "execution_count": 12,
   "id": "85baf277",
   "metadata": {
    "init_cell": true,
    "slideshow": {
     "slide_type": "slide"
    }
   },
   "outputs": [
    {
     "data": {
      "application/vnd.jupyter.widget-view+json": {
       "model_id": "cb93452c498047138c00ed39f620f498",
       "version_major": 2,
       "version_minor": 0
      },
      "text/plain": [
       "Figure(fig_margin={'left': 0, 'top': 0, 'bottom': 0, 'right': 0}, layout=Layout(height='600px', width='1400px'…"
      ]
     },
     "metadata": {},
     "output_type": "display_data"
    }
   ],
   "source": [
    "display(fig2)"
   ]
  }
 ],
 "metadata": {
  "celltoolbar": "Slideshow",
  "hide_input": false,
  "kernelspec": {
   "display_name": "Python 3 (ipykernel)",
   "language": "python",
   "name": "python3"
  },
  "language_info": {
   "codemirror_mode": {
    "name": "ipython",
    "version": 3
   },
   "file_extension": ".py",
   "mimetype": "text/x-python",
   "name": "python",
   "nbconvert_exporter": "python",
   "pygments_lexer": "ipython3",
   "version": "3.7.12"
  },
  "rise": {
   "autolaunch": true,
   "enable_chalkboard": true,
   "transition": "zoom"
  }
 },
 "nbformat": 4,
 "nbformat_minor": 5
}
