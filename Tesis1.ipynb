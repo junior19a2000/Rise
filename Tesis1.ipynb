{
 "cells": [
  {
   "cell_type": "code",
   "execution_count": 1,
   "id": "e0fb8a7e",
   "metadata": {
    "slideshow": {
     "slide_type": "skip"
    }
   },
   "outputs": [
    {
     "data": {
      "text/html": [
       "<script>\n",
       "    function luc21893_refresh_cell(cell) {\n",
       "        if( cell.luc21893 ) return;\n",
       "        cell.luc21893 = true;\n",
       "        console.debug('New code cell found...' );\n",
       "        \n",
       "        var div = document.createElement('DIV');            \n",
       "        cell.parentNode.insertBefore( div, cell.nextSibling );\n",
       "        div.style.textAlign = 'right';\n",
       "        var a = document.createElement('A');\n",
       "        div.appendChild(a);\n",
       "        a.href='#'\n",
       "        a.luc21893 = cell;\n",
       "        a.setAttribute( 'onclick', \"luc21893_toggle(this); return false;\" );\n",
       "\n",
       "        cell.style.visibility='hidden';\n",
       "        cell.style.position='absolute';\n",
       "        a.innerHTML = '[show code]';        \n",
       "                \n",
       "    }\n",
       "    function luc21893_refresh() {                \n",
       "        if( document.querySelector('.code_cell .input') == null ) {            \n",
       "            // it apeears that I am in a exported html\n",
       "            // hide this code\n",
       "            var codeCells = document.querySelectorAll('.jp-InputArea')\n",
       "            codeCells[0].style.visibility = 'hidden';\n",
       "            codeCells[0].style.position = 'absolute';                        \n",
       "            for( var i = 1; i < codeCells.length; i++ ) {\n",
       "                luc21893_refresh_cell(codeCells[i].parentNode)\n",
       "            }\n",
       "            window.onload = luc21893_refresh;\n",
       "        }                 \n",
       "        else {\n",
       "            // it apperas that I am in a jupyter editor\n",
       "            var codeCells = document.querySelectorAll('.code_cell .input')\n",
       "            for( var i = 0; i < codeCells.length; i++ ) {\n",
       "                luc21893_refresh_cell(codeCells[i])\n",
       "            }            \n",
       "            window.setTimeout( luc21893_refresh, 1000 )\n",
       "        }        \n",
       "    }\n",
       "    \n",
       "    function luc21893_toggle(a) {\n",
       "        if( a.luc21893.style.visibility=='hidden' ) {\n",
       "            a.luc21893.style.visibility='visible';        \n",
       "            a.luc21893.style.position='';\n",
       "            a.innerHTML = '[hide code]';\n",
       "        }\n",
       "        else {\n",
       "            a.luc21893.style.visibility='hidden';        \n",
       "            a.luc21893.style.position='absolute';\n",
       "            a.innerHTML = '[show code]';\n",
       "        }\n",
       "    }\n",
       "    \n",
       "    luc21893_refresh()\n",
       "</script>\n"
      ],
      "text/plain": [
       "<IPython.core.display.HTML object>"
      ]
     },
     "metadata": {},
     "output_type": "display_data"
    }
   ],
   "source": [
    "%%HTML \n",
    "<script>\n",
    "    function luc21893_refresh_cell(cell) {\n",
    "        if( cell.luc21893 ) return;\n",
    "        cell.luc21893 = true;\n",
    "        console.debug('New code cell found...' );\n",
    "        \n",
    "        var div = document.createElement('DIV');            \n",
    "        cell.parentNode.insertBefore( div, cell.nextSibling );\n",
    "        div.style.textAlign = 'right';\n",
    "        var a = document.createElement('A');\n",
    "        div.appendChild(a);\n",
    "        a.href='#'\n",
    "        a.luc21893 = cell;\n",
    "        a.setAttribute( 'onclick', \"luc21893_toggle(this); return false;\" );\n",
    "\n",
    "        cell.style.visibility='hidden';\n",
    "        cell.style.position='absolute';\n",
    "        a.innerHTML = '[show code]';        \n",
    "                \n",
    "    }\n",
    "    function luc21893_refresh() {                \n",
    "        if( document.querySelector('.code_cell .input') == null ) {            \n",
    "            // it apeears that I am in a exported html\n",
    "            // hide this code\n",
    "            var codeCells = document.querySelectorAll('.jp-InputArea')\n",
    "            codeCells[0].style.visibility = 'hidden';\n",
    "            codeCells[0].style.position = 'absolute';                        \n",
    "            for( var i = 1; i < codeCells.length; i++ ) {\n",
    "                luc21893_refresh_cell(codeCells[i].parentNode)\n",
    "            }\n",
    "            window.onload = luc21893_refresh;\n",
    "        }                 \n",
    "        else {\n",
    "            // it apperas that I am in a jupyter editor\n",
    "            var codeCells = document.querySelectorAll('.code_cell .input')\n",
    "            for( var i = 0; i < codeCells.length; i++ ) {\n",
    "                luc21893_refresh_cell(codeCells[i])\n",
    "            }            \n",
    "            window.setTimeout( luc21893_refresh, 1000 )\n",
    "        }        \n",
    "    }\n",
    "    \n",
    "    function luc21893_toggle(a) {\n",
    "        if( a.luc21893.style.visibility=='hidden' ) {\n",
    "            a.luc21893.style.visibility='visible';        \n",
    "            a.luc21893.style.position='';\n",
    "            a.innerHTML = '[hide code]';\n",
    "        }\n",
    "        else {\n",
    "            a.luc21893.style.visibility='hidden';        \n",
    "            a.luc21893.style.position='absolute';\n",
    "            a.innerHTML = '[show code]';\n",
    "        }\n",
    "    }\n",
    "    \n",
    "    luc21893_refresh()\n",
    "</script>"
   ]
  },
  {
   "cell_type": "code",
   "execution_count": 2,
   "id": "5619fcb8",
   "metadata": {
    "slideshow": {
     "slide_type": "skip"
    }
   },
   "outputs": [],
   "source": [
    "# Librerias\n",
    "import ipywidgets as ipw\n",
    "import bqplot as bqp\n",
    "import numpy as np\n",
    "import markdown\n",
    "from bqplot import pyplot as plt\n",
    "from scipy import interpolate"
   ]
  },
  {
   "cell_type": "markdown",
   "id": "e9e7e28e",
   "metadata": {
    "slideshow": {
     "slide_type": "slide"
    }
   },
   "source": [
    "<center><font face=\"Times New Roman\"><font size=\"5\">\n",
    "    Presentacion de mi trabajo de tesis:\n",
    "</font></font></center>\n",
    "<hr>\n",
    "<br>\n",
    "<br>\n",
    "<center><font face=\"Times New Roman\"><font size=\"10\">\n",
    "    Desarrollo de una aplicacion computacional para el calculo de sistemas de transmisión de potencia\n",
    "</font></font></center>\n",
    "<br>\n",
    "<br>\n",
    "<hr>\n",
    "<center><font face=\"Times New Roman\"><font size=\"5\">\n",
    "    Autor: Aguilar Hancco Junior Joel\n",
    "</font></font></center>\n",
    "<center><font face=\"Times New Roman\"><font size=\"3\">Arequipa - 2022\n",
    "</font></font></center>"
   ]
  },
  {
   "cell_type": "markdown",
   "id": "9a2a821d",
   "metadata": {
    "slideshow": {
     "slide_type": "slide"
    }
   },
   "source": [
    "<center><font face=\"Times New Roman\"><font size=\"10\">\n",
    "    Calculo de factores provenientes de tablas (correas, cadenas, engranajes, ejes, etc)\n",
    "</font></font></center>\n",
    "<hr>\n",
    "<br>\n",
    "<font face=\"Times New Roman\"><font size=\"5\">\n",
    "Se realiza mediante interpolaciones unidimensionales y bidimensionales, de los datos previamente extraidos de las graficas, mediante procesamiento de imagenes.\n",
    "</font>"
   ]
  },
  {
   "cell_type": "code",
   "execution_count": 3,
   "id": "f7ead37a",
   "metadata": {
    "scrolled": false,
    "slideshow": {
     "slide_type": "subslide"
    }
   },
   "outputs": [
    {
     "data": {
      "application/vnd.jupyter.widget-view+json": {
       "model_id": "30e10aee0d7e42b08e4ce548144f402e",
       "version_major": 2,
       "version_minor": 0
      },
      "text/plain": [
       "HBox(children=(VBox(children=(HTML(value='<center><font face=\"Times New Roman\"><font size=\"5\">                …"
      ]
     },
     "metadata": {},
     "output_type": "display_data"
    }
   ],
   "source": [
    "# Componentes\n",
    "FloatSlider1 = ipw.FloatSlider(\n",
    "               description = 'r / D',\n",
    "               min = 0,\n",
    "               max = 0.3,\n",
    "               step = 0.01,\n",
    "               layout = ipw.Layout(margin = '0px 0px 30px 0px')\n",
    ")\n",
    "FloatSlider2 = ipw.FloatSlider(\n",
    "               description = 'D / d',\n",
    "               min = 1.02,\n",
    "               max = 1.5,\n",
    "               step = 0.01,\n",
    "               layout = ipw.Layout(margin = '0px 0px 30px 0px')\n",
    ")\n",
    "FloatText1   = ipw.FloatText(\n",
    "               description = 'K',\n",
    "               layout = ipw.Layout(width = '275px', margin = '0px 0px 60px 0px')\n",
    ")\n",
    "HTML1 = ipw.HTML(\n",
    "        value  = f'<center><font face=\"Times New Roman\"><font size=\"5\">\\\n",
    "                 Factor de concentracion de esfuerzo de un eje a flexion\\\n",
    "                 </font></font></center>',\n",
    "        layout = ipw.Layout(width = '330px', margin = '0px 0px 60px 0px')\n",
    ") \n",
    "HTML2 = ipw.HTML(\n",
    "        value  = f'<center><img src=\"Thesis/imag_pros.gif\" width=\"250\" height=\"250\"></center>',\n",
    "        layout = ipw.Layout(width = '330px', margin = '0px 0px 0px 0px')\n",
    ")\n",
    "\n",
    "with open(\"Thesis/Charts.jpg\", \"rb\") as f:\n",
    "    raw_image = f.read()   \n",
    "ipyimage = ipw.Image(value = raw_image, format = \"jpg\")\n",
    "\n",
    "scale_x1 = bqp.LinearScale(min = 0, max = 1)\n",
    "scale_y1 = bqp.LinearScale(min = 0, max = 1)\n",
    "ax_x1    = bqp.Axis(scale = scale_x1, label = '', color='white', grid_lines = 'none', visible = False)\n",
    "ax_y1    = bqp.Axis(scale = scale_y1, label = '', color='white', orientation = 'vertical', grid_lines = 'none', visible = False)\n",
    "scales1  = {\"x\": scale_x1, \"y\": scale_y1}\n",
    "panzoom  = bqp.interacts.PanZoom(scales={'x': [scale_x1], 'y': [scale_y1]})\n",
    "m_fig    = dict(left = 45, top = 0, bottom = 35, right = 15)\n",
    "\n",
    "imagen1  = bqp.Image(image = ipyimage, scales = scales1)\n",
    "lines1   = bqp.Lines(x = [], y = [],\n",
    "           scales = {'x': scale_x1, 'y': scale_y1,},\n",
    "           colors = ['red'],\n",
    "           line_style = 'dashed'\n",
    ")\n",
    "scatter1 = bqp.Scatter(x = [], y = [],\n",
    "           scales = {'x': scale_x1, 'y': scale_y1,},\n",
    "           default_size = int(25),\n",
    "           colors = ['red'],\n",
    "           marker = 'circle'\n",
    ")\n",
    "\n",
    "fig1 = bqp.Figure(marks = [imagen1, lines1, scatter1], axes = [ax_x1, ax_y1], fig_margin = m_fig, padding_x = 0, padding_y = 0, layout = ipw.Layout(width = '650px', height = '650px'))\n",
    "fig1.interaction = panzoom\n",
    "fig1.max_aspect_ratio = 10\n",
    "fig1.min_aspect_ratio = 1\n",
    "\n",
    "VBox1 = ipw.VBox([HTML1, FloatSlider1, FloatSlider2, FloatText1, HTML2], \n",
    "        layout = ipw.Layout(justify_content = 'flex-start', width = 'auto', height = 'auto', margin = '0px', padding = '0px', border = '0px'))\n",
    "HBox1 = ipw.HBox([VBox1, fig1])\n",
    "display(HBox1)\n",
    "\n",
    "# Funciones\n",
    "x = np.array([0.00, 0.04, 0.08, 0.12, 0.16, 0.20, 0.24, 0.28, 0.30])\n",
    "y = np.array([1.02, 1.05, 1.50])\n",
    "z = np.array([[2.40, 1.88, 1.62, 1.50, 1.42, 1.36, 1.34, 1.32, 1.30], \n",
    "              [2.90, 2.26, 1.85, 1.67, 1.56, 1.47, 1.42, 1.38, 1.37],\n",
    "              [3.30, 2.67, 2.14, 1.86, 1.71, 1.60, 1.52, 1.47, 1.45]\n",
    "])\n",
    "f1 = interpolate.interp2d(x, y, z)\n",
    "x  = np.array([0.000, 0.300])\n",
    "y  = np.array([0.110, 0.985])\n",
    "f2 = interpolate.interp1d(x, y)\n",
    "x  = np.array([1.000, 3.000])\n",
    "y  = np.array([0.060, 0.995])\n",
    "f3 = interpolate.interp1d(x, y)\n",
    "def funcion1(valor):\n",
    "    lines1.x = [f2(valor), f2(valor), f2(0)]\n",
    "    lines1.y = [f3(1), f3(f1(valor, FloatSlider2.value)[0]), f3(f1(valor, FloatSlider2.value)[0])]\n",
    "    scatter1.x = [f2(valor)]\n",
    "    scatter1.y = [f3(f1(valor, FloatSlider2.value)[0])]\n",
    "    FloatText1.value = f1(valor, FloatSlider2.value)[0]\n",
    "f_funcion1 = ipw.interactive(funcion1, valor = FloatSlider1)\n",
    "def funcion2(valor):\n",
    "    lines1.x = [f2(FloatSlider1.value), f2(FloatSlider1.value), f2(0)]\n",
    "    lines1.y = [f3(1), f3(f1(FloatSlider1.value, valor)[0]), f3(f1(FloatSlider1.value, valor)[0])]\n",
    "    scatter1.x = [f2(FloatSlider1.value)]\n",
    "    scatter1.y = [f3(f1(FloatSlider1.value, valor)[0])]\n",
    "    FloatText1.value = f1(FloatSlider1.value, valor)[0]\n",
    "f_funcion2 = ipw.interactive(funcion2, valor = FloatSlider2)"
   ]
  },
  {
   "cell_type": "markdown",
   "id": "ed478925",
   "metadata": {
    "cell_style": "center",
    "slideshow": {
     "slide_type": "subslide"
    }
   },
   "source": [
    "```Octave\n",
    "% Programa para la digitalizacion de Imagenes\n",
    "% Autor: Junior Joel Aguilar Hancco\n",
    "\n",
    "clear, clc, close all\n",
    "Imagen   = input('Ingrense el nombre de su imagen:\\n','s'); clc\n",
    "im1      = imread(Imagen);\n",
    "figure('NumberTitle','Off','Name',Imagen)\n",
    "imshow(im1)\n",
    "disp('Seleccione dos puntos para establecer el sistema de escalamiento')\n",
    "[x1, y1] = ginput(2);\n",
    "cor1     = input('Ingrese el primer par coordenado entre corchetes:\\n'); clc\n",
    "cor2     = input('Ingrese el segundo par coordenado entre corchetes:\\n'); clc\n",
    "cor      = [cor1;cor2];\n",
    "npun     = input('¿Cuantos puntos desea obtener?\\n'); clc\n",
    "disp('Seleccione los puntos que desea obtener'); pause(2), clc\n",
    "[x2, y2] = ginput(npun);\n",
    "x3       = spline(x1, cor(:,1), x2);\n",
    "y3       = spline(y1, cor(:,2), y2);\n",
    "cor      = [x3';y3'];\n",
    "disp('Las coordenadas de los puntos seleccionados son:')\n",
    "disp('      X       Y')\n",
    "fprintf('\\t%.2f \\t%.2f\\n',cor)\n",
    "fig = figure('NumberTitle','Off','Name','Imagen Digitalizada');\n",
    "axe = axes('Parent',fig,'Color',[0 0 0]); hold(axe,'on')\n",
    "plot(x3,y3,'-r',x3,y3,'or','LineWidth',1.5)\n",
    "fig = gca; grid on\n",
    "fig.GridColor = [0 1 1];\n",
    "fig.GridAlpha = 0.5;\n",
    "fig.Layer = 'bottom';\n",
    "key1 = 0;\n",
    "while key1 == 0\n",
    "    cla; plot(x3,y3,'-r',x3,y3,'or','LineWidth',1.5)\n",
    "    n = input('Ingrese el grado del Polinomio de Aproximacion:\\n'); \n",
    "    f = polyfit(x3,y3,n);\n",
    "    f = poly2sym(f);\n",
    "    fplot(f,[min(x3) max(x3)],'Color',[0 0 1],'LineWidth',1.5); clc\n",
    "    r = input('¿Desea cambiar el grado del Polinomio?\\n','s');\n",
    "    switch r\n",
    "        case 'si'\n",
    "            key1 = 0;\n",
    "        case 'no'\n",
    "            key1 = 1; disp(f)\n",
    "    end\n",
    "end\n",
    "```"
   ]
  },
  {
   "cell_type": "markdown",
   "id": "ca09f936",
   "metadata": {
    "slideshow": {
     "slide_type": "slide"
    }
   },
   "source": [
    "<center><font face=\"Times New Roman\"><font size=\"10\">\n",
    "    Propiedes y parametros iniciales para el calculo del eje\n",
    "</font></font></center>\n",
    "<hr>\n",
    "<br>\n",
    "<font face=\"Times New Roman\"><font size=\"5\">\n",
    "Para dar un solucion optima al calculo del eje, es necesario estableces las propiedades geometricas y mecanicas, asi como otros parametros que describen al eje.\n",
    "</font>"
   ]
  },
  {
   "cell_type": "code",
   "execution_count": null,
   "id": "9b052fc5",
   "metadata": {
    "slideshow": {
     "slide_type": "subslide"
    }
   },
   "outputs": [],
   "source": [
    "node_data = [\n",
    "    {'label': 'Tipos de apoyo', 'shape': 'rect', 'shape_attrs': {'rx': 5, 'ry': 5, 'width': 170, 'height': 30}},\n",
    "    {'label': 'Fuerzas', 'shape': 'rect', 'shape_attrs': {'rx': 5, 'ry': 5, 'width': 170, 'height': 30}},\n",
    "    {'label': 'Momentos', 'shape': 'rect', 'shape_attrs': {'rx': 5, 'ry': 5, 'width': 170, 'height': 30}},\n",
    "    {'label': 'Numero de nodos', 'shape': 'rect', 'shape_attrs': {'rx': 5, 'ry': 5, 'width': 170, 'height': 30}},\n",
    "    {'label': 'Condiciones de operación', 'shape': 'rect', 'shape_attrs': {'rx': 5, 'ry': 5, 'width': 170, 'height': 30}},\n",
    "    {'label': 'Tratamiento superficial', 'shape': 'rect', 'shape_attrs': {'rx': 5, 'ry': 5, 'width': 170, 'height': 30}},\n",
    "    {'label': 'Módulo de elasticidad', 'shape': 'rect', 'shape_attrs': {'rx': 5, 'ry': 5, 'width': 170, 'height': 30}},\n",
    "    {'label': 'Módulo de rigidez', 'shape': 'rect', 'shape_attrs': {'rx': 5, 'ry': 5, 'width': 170, 'height': 30}},\n",
    "    {'label': 'Esfuerzo de fluencia', 'shape': 'rect', 'shape_attrs': {'rx': 5, 'ry': 5, 'width': 170, 'height': 30}},\n",
    "    {'label': 'Esfuerzo de rotura', 'shape': 'rect', 'shape_attrs': {'rx': 5, 'ry': 5, 'width': 170, 'height': 30}},\n",
    "    {'label': 'Densidad', 'shape': 'rect', 'shape_attrs': {'rx': 5, 'ry': 5, 'width': 170, 'height': 30}},\n",
    "    {'label': 'Diametro mayor', 'shape': 'rect', 'shape_attrs': {'rx': 5, 'ry': 5, 'width': 170, 'height': 30}},\n",
    "    {'label': 'Diametro menor', 'shape': 'rect', 'shape_attrs': {'rx': 5, 'ry': 5, 'width': 170, 'height': 30}},\n",
    "    {'label': 'Longitud', 'shape': 'rect', 'shape_attrs': {'rx': 5, 'ry': 5, 'width': 170, 'height': 30}},\n",
    "    {'label': 'Redondeos', 'shape': 'rect', 'shape_attrs': {'rx': 5, 'ry': 5, 'width': 170, 'height': 30}},\n",
    "    {'label': 'Primer momento de area', 'shape': 'rect', 'shape_attrs': {'rx': 5, 'ry': 5, 'width': 170, 'height': 30}},\n",
    "    {'label': 'Segundo momento de area', 'shape': 'rect', 'shape_attrs': {'rx': 5, 'ry': 5, 'width': 170, 'height': 30}},\n",
    "    {'label': 'Momento polar de inercia', 'shape': 'rect', 'shape_attrs': {'rx': 5, 'ry': 5, 'width': 170, 'height': 30}},\n",
    "    {'label': 'Area de la seccion', 'shape': 'rect', 'shape_attrs': {'rx': 5, 'ry': 5, 'width': 170, 'height': 30}},\n",
    "    {'label': 'Reacciones', 'shape': 'rect', 'shape_attrs': {'rx': 5, 'ry': 5, 'width': 170, 'height': 30}},\n",
    "    {'label': 'Desplazamientos', 'shape': 'rect', 'shape_attrs': {'rx': 5, 'ry': 5, 'width': 170, 'height': 30}},\n",
    "    {'label': 'Esfuerzos estaticos', 'shape': 'rect', 'shape_attrs': {'rx': 5, 'ry': 5, 'width': 170, 'height': 30}},\n",
    "    {'label': 'Esfuerzos estaticos maximos', 'shape': 'rect', 'shape_attrs': {'rx': 5, 'ry': 5, 'width': 170, 'height': 30}},\n",
    "    {'label': 'Esfuerzos dinamicos', 'shape': 'rect', 'shape_attrs': {'rx': 5, 'ry': 5, 'width': 170, 'height': 30}},\n",
    "    {'label': 'Esfuerzos dinamicos maximos', 'shape': 'rect', 'shape_attrs': {'rx': 5, 'ry': 5, 'width': 170, 'height': 30}},\n",
    "    {'label': 'F.S. estaticos', 'shape': 'rect', 'shape_attrs': {'rx': 5, 'ry': 5, 'width': 170, 'height': 30}},\n",
    "    {'label': 'F.S. estaticos minimos', 'shape': 'rect', 'shape_attrs': {'rx': 5, 'ry': 5, 'width': 170, 'height': 30}},\n",
    "    {'label': 'F.S. dinamicos', 'shape': 'rect', 'shape_attrs': {'rx': 5, 'ry': 5, 'width': 170, 'height': 30}},\n",
    "    {'label': 'F.S. dinamicos minimos', 'shape': 'rect', 'shape_attrs': {'rx': 5, 'ry': 5, 'width': 170, 'height': 30}},\n",
    "    {'label': 'Velocidades criticas', 'shape': 'rect', 'shape_attrs': {'rx': 5, 'ry': 5, 'width': 170, 'height': 30}},\n",
    "]\n",
    "\n",
    "link_data = [{'source': 0, 'target': 20},\n",
    "             {'source': 1, 'target': 19},\n",
    "             {'source': 2, 'target': 19},\n",
    "             {'source': 4, 'target': 23},\n",
    "             {'source': 5, 'target': 23},\n",
    "             {'source': 6, 'target': 20},\n",
    "             {'source': 7, 'target': 20},\n",
    "             {'source': 8, 'target': 25},\n",
    "             {'source': 8, 'target': 26},\n",
    "             {'source': 9, 'target': 27},\n",
    "             {'source': 9, 'target': 28},\n",
    "             {'source': 10, 'target': 20},\n",
    "             {'source': 11, 'target': 15},\n",
    "             {'source': 11, 'target': 16},\n",
    "             {'source': 11, 'target': 17},\n",
    "             {'source': 11, 'target': 18},\n",
    "             {'source': 12, 'target': 15},\n",
    "             {'source': 12, 'target': 16},\n",
    "             {'source': 12, 'target': 17},\n",
    "             {'source': 12, 'target': 18},\n",
    "             {'source': 13, 'target': 19},\n",
    "             {'source': 14, 'target': 22},\n",
    "             {'source': 14, 'target': 24},\n",
    "             {'source': 15, 'target': 21},\n",
    "             {'source': 15, 'target': 23},\n",
    "             {'source': 16, 'target': 21},\n",
    "             {'source': 16, 'target': 23},\n",
    "             {'source': 17, 'target': 21},\n",
    "             {'source': 17, 'target': 23},\n",
    "             {'source': 18, 'target': 20},\n",
    "             {'source': 19, 'target': 20},\n",
    "             {'source': 20, 'target': 21},\n",
    "             {'source': 20, 'target': 23},\n",
    "             {'source': 20, 'target': 29},\n",
    "             {'source': 21, 'target': 22},\n",
    "             {'source': 21, 'target': 25},\n",
    "             {'source': 22, 'target': 26},\n",
    "             {'source': 23, 'target': 24},\n",
    "             {'source': 23, 'target': 27},\n",
    "             {'source': 24, 'target': 28}]\n",
    "\n",
    "xs = bqp.LinearScale()\n",
    "ys = bqp.LinearScale()\n",
    "fig_layout = ipw.Layout(width='1400px', height='600px')\n",
    "panzoom    = bqp.interacts.PanZoom(scales={'x': [xs], 'y': [ys]})\n",
    "x = np.concatenate((np.array([0] * 6), np.array([50] * 5), np.array([100] * 4), np.array([150] * 4), np.array([200] * 6), np.array([250] * 5)))\n",
    "y = np.concatenate((np.linspace(1, 2 * 6 - 1, 6), np.linspace(2, 2 * 5, 5), np.linspace(3, 2 * 4 + 1, 4), np.linspace(3, 2 * 4 + 1, 4), np.linspace(1, 2 * 6 - 1, 6), np.linspace(2, 2 * 5, 5)))\n",
    "graph = bqp.Graph(node_data = node_data, link_data = link_data, link_type = 'slant_line', \n",
    "              colors=['#F1948A'] * 3 + ['#F4D03F'] * 1 + ['#F1948A'] * 2 + ['#82E0AA'] * 5 + ['#7FB3D5'] * 4 + ['#E5E7E9'] * (len(node_data) - 15),\n",
    "              scales={'x': xs, 'y': ys, }, x = x, y = y, \n",
    "              directed = True)\n",
    "fig2 = bqp.Figure(title = 'Dependencias', marks = [graph], layout = fig_layout)\n",
    "display(fig2)"
   ]
  },
  {
   "cell_type": "markdown",
   "id": "caf465bc",
   "metadata": {
    "slideshow": {
     "slide_type": "slide"
    }
   },
   "source": [
    "$$\n",
    "\\begin{align}\n",
    "\\text{Probability density function:}\\\\\n",
    "\\begin{cases}\n",
    "\\frac{1}{b-a}&\\text{for $x\\in[a,b]$}\\\\\n",
    "0&\\text{otherwise}\\\\\n",
    "\\end{cases}\n",
    "\\\\\n",
    "\\text{Cumulative distribution function:}\\\\\n",
    "\\begin{cases}\n",
    "0&\\text{for $x<a$}\\\\\n",
    "\\frac{x-a}{b-a}&\\text{for $x\\in[a,b)$}\\\\\n",
    "1&\\text{for $x\\ge b$}\\\\\n",
    "\\end{cases}\n",
    "\\end{align}\n",
    "$$"
   ]
  },
  {
   "cell_type": "code",
   "execution_count": 11,
   "id": "ba171ad6",
   "metadata": {
    "slideshow": {
     "slide_type": "slide"
    }
   },
   "outputs": [
    {
     "data": {
      "text/html": [
       "<!-- background-image: url('RetroWave.jpg'); background-size: cover -->\n",
       "<!DOCTYPE html>\n",
       "<html>\n",
       "    <body style=\"background-color: rgb(255, 255, 255);\">\n",
       "    \n",
       "    <h1 style=\"color: cyan; font-size: 41px; font-family: 'Courier New'; background-color: rgb(135, 132, 114); border: 0px; text-align: left; padding: 0px 0px 0px 0px\"><b><center>Dibujando con epiciclos y la transformada de Fourier</center></b></h1>\n",
       "</html>\n"
      ],
      "text/plain": [
       "<IPython.core.display.HTML object>"
      ]
     },
     "metadata": {},
     "output_type": "display_data"
    }
   ],
   "source": [
    "%%html\n",
    "<!-- background-image: url('RetroWave.jpg'); background-size: cover -->\n",
    "<!DOCTYPE html>\n",
    "<html>\n",
    "    <body style=\"background-color: rgb(255, 255, 255);\">\n",
    "    \n",
    "    <h1 style=\"color: cyan; font-size: 41px; font-family: 'Courier New'; background-color: rgb(135, 132, 114); border: 0px; text-align: left; padding: 0px 0px 0px 0px\"><b><center>Dibujando con epiciclos y la transformada de Fourier</center></b></h1>\n",
    "</html>"
   ]
  },
  {
   "cell_type": "markdown",
   "id": "0813d0cd",
   "metadata": {
    "slideshow": {
     "slide_type": "slide"
    }
   },
   "source": [
    "> Text that will be indented when the Markdown is rendered.\n",
    ">> Text that will be indented when the Markdown is rendered."
   ]
  }
 ],
 "metadata": {
  "celltoolbar": "Slideshow",
  "kernelspec": {
   "display_name": "Python 3 (ipykernel)",
   "language": "python",
   "name": "python3"
  },
  "language_info": {
   "codemirror_mode": {
    "name": "ipython",
    "version": 3
   },
   "file_extension": ".py",
   "mimetype": "text/x-python",
   "name": "python",
   "nbconvert_exporter": "python",
   "pygments_lexer": "ipython3",
   "version": "3.7.12"
  },
  "rise": {
   "autolaunch": true,
   "enable_chalkboard": true,
   "transition": "zoom"
  }
 },
 "nbformat": 4,
 "nbformat_minor": 5
}
