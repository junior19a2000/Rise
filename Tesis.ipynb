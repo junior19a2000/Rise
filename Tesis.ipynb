{
 "cells": [
  {
   "cell_type": "code",
   "execution_count": 3,
   "id": "5619fcb8",
   "metadata": {
    "slideshow": {
     "slide_type": "skip"
    }
   },
   "outputs": [],
   "source": [
    "# Librerias\n",
    "import ipywidgets as ipw\n",
    "import bqplot as bqp\n",
    "import numpy as np\n",
    "import markdown\n",
    "from bqplot import pyplot as plt\n",
    "from scipy import interpolate"
   ]
  },
  {
   "cell_type": "markdown",
   "id": "e9e7e28e",
   "metadata": {
    "slideshow": {
     "slide_type": "slide"
    }
   },
   "source": [
    "<center><font face=\"Times New Roman\"><font size=\"5\">\n",
    "    Presentacion de mi trabajo de tesis:\n",
    "</font></font></center>\n",
    "<hr>\n",
    "<br>\n",
    "<br>\n",
    "<center><font face=\"Times New Roman\"><font size=\"10\">\n",
    "    Desarrollo de una aplicacion computacional para el calculo de sistemas de transmisión de potencia\n",
    "</font></font></center>\n",
    "<br>\n",
    "<br>\n",
    "<hr>\n",
    "<center><font face=\"Times New Roman\"><font size=\"5\">\n",
    "    Autor: Aguilar Hancco Junior Joel\n",
    "</font></font></center>\n",
    "<center><font face=\"Times New Roman\"><font size=\"3\">Arequipa - 2022\n",
    "</font></font></center>"
   ]
  },
  {
   "cell_type": "markdown",
   "id": "9a2a821d",
   "metadata": {
    "slideshow": {
     "slide_type": "slide"
    }
   },
   "source": [
    "<center><font face=\"Times New Roman\"><font size=\"10\">\n",
    "    Calculo de factores provenientes de tablas (correas, cadenas, engranajes, ejes, etc)\n",
    "</font></font></center>\n",
    "<hr>\n",
    "<br>\n",
    "<font face=\"Times New Roman\"><font size=\"5\">\n",
    "Se realiza mediante interpolaciones unidimensionales y bidimensionales de los datos extraidos de las graficas, mediante procesamiento de imagenes\n",
    "</font>"
   ]
  },
  {
   "cell_type": "code",
   "execution_count": 7,
   "id": "f7ead37a",
   "metadata": {
    "scrolled": false,
    "slideshow": {
     "slide_type": "subslide"
    }
   },
   "outputs": [
    {
     "data": {
      "application/vnd.jupyter.widget-view+json": {
       "model_id": "721577fcd87d4f8889490d9555744884",
       "version_major": 2,
       "version_minor": 0
      },
      "text/plain": [
       "HBox(children=(VBox(children=(HTML(value='<center><font face=\"Times New Roman\"><font size=\"5\">                …"
      ]
     },
     "metadata": {},
     "output_type": "display_data"
    }
   ],
   "source": [
    "# Componentes\n",
    "FloatSlider1 = ipw.FloatSlider(\n",
    "               description = 'r / D',\n",
    "               min = 0,\n",
    "               max = 0.3,\n",
    "               step = 0.01,\n",
    "               layout = ipw.Layout(margin = '0px 0px 30px 0px')\n",
    ")\n",
    "FloatSlider2 = ipw.FloatSlider(\n",
    "               description = 'D / d',\n",
    "               min = 1.02,\n",
    "               max = 1.5,\n",
    "               step = 0.01,\n",
    "               layout = ipw.Layout(margin = '0px 0px 30px 0px')\n",
    ")\n",
    "FloatText1   = ipw.FloatText(\n",
    "               description = 'K',\n",
    "               layout = ipw.Layout(width = '275px', margin = '0px 0px 60px 0px')\n",
    ")\n",
    "html = markdown.markdown(\"\"\"\n",
    "<font face=\"Times New Roman\"><font size=\"5\">Codigo de interpolacion</font></font>\n",
    "<br>\n",
    "<br>\n",
    "<font size=\"1\"><pre>\n",
    "x = np.array([0.00,0.04,0.08,0.12,0.16,0.20,0.24,0.28,0.30])\n",
    "y = np.array([1.02,1.05,1.50])\n",
    "z = np.array([[2.4,1.88,1.62,1.50,1.42,1.36,1.34,1.32,1.30], \n",
    "              [2.9,2.26,1.85,1.67,1.56,1.47,1.42,1.38,1.37],\n",
    "              [3.3,2.67,2.14,1.86,1.71,1.60,1.52,1.47,1.45]\n",
    "])\n",
    "f1 = interpolate.interp2d(x, y, z)\n",
    "</pre></font>\n",
    "\"\"\")\n",
    "HTML1 = ipw.HTML(\n",
    "        value  = html\n",
    "#         layout = ipw.Layout(border ='2px solid black')\n",
    ") \n",
    "HTML2 = ipw.HTML(\n",
    "        value  = f'<center><font face=\"Times New Roman\"><font size=\"5\">\\\n",
    "                 Factor de concentracion de esfuerzo de un eje a flexion\\\n",
    "                 </font></font></center>',\n",
    "        layout = ipw.Layout(width = '330px', margin = '0px 0px 60px 0px')\n",
    ") \n",
    "\n",
    "with open(\"Charts.jpg\", \"rb\") as f:\n",
    "    raw_image = f.read()   \n",
    "ipyimage = ipw.Image(value = raw_image, format = \"jpg\")\n",
    "\n",
    "scale_x1 = bqp.LinearScale(min = 0, max = 1)\n",
    "scale_y1 = bqp.LinearScale(min = 0, max = 1)\n",
    "ax_x1    = bqp.Axis(scale = scale_x1, label = '', color='white', grid_lines = 'none', visible = False)\n",
    "ax_y1    = bqp.Axis(scale = scale_y1, label = '', color='white', orientation = 'vertical', grid_lines = 'none', visible = False)\n",
    "scales1  = {\"x\": scale_x1, \"y\": scale_y1}\n",
    "panzoom  = bqp.interacts.PanZoom(scales={'x': [scale_x1], 'y': [scale_y1]})\n",
    "m_fig    = dict(left = 45, top = 0, bottom = 35, right = 15)\n",
    "\n",
    "imagen1  = bqp.Image(image = ipyimage, scales = scales1)\n",
    "lines1   = bqp.Lines(x = [], y = [],\n",
    "           scales = {'x': scale_x1, 'y': scale_y1,},\n",
    "           colors = ['red'],\n",
    "           line_style = 'dashed'\n",
    ")\n",
    "scatter1 = bqp.Scatter(x = [], y = [],\n",
    "           scales = {'x': scale_x1, 'y': scale_y1,},\n",
    "           default_size = int(25),\n",
    "           colors = ['red'],\n",
    "           marker = 'circle'\n",
    ")\n",
    "\n",
    "fig1 = bqp.Figure(marks = [imagen1, lines1, scatter1], axes = [ax_x1, ax_y1], fig_margin = m_fig, padding_x = 0, padding_y = 0, layout = ipw.Layout(width = '650px', height = '650px'))\n",
    "fig1.interaction = panzoom\n",
    "fig1.max_aspect_ratio = 10\n",
    "fig1.min_aspect_ratio = 1\n",
    "\n",
    "VBox1 = ipw.VBox([HTML2, FloatSlider1, FloatSlider2, FloatText1, HTML1], \n",
    "        layout = ipw.Layout(justify_content = 'flex-start', width = 'auto', height = 'auto', margin = '0px', padding = '0px', border = '0px'))\n",
    "HBox1 = ipw.HBox([VBox1, fig1])\n",
    "display(HBox1)\n",
    "\n",
    "# Funciones\n",
    "x = np.array([0.00, 0.04, 0.08, 0.12, 0.16, 0.20, 0.24, 0.28, 0.30])\n",
    "y = np.array([1.02, 1.05, 1.50])\n",
    "z = np.array([[2.40, 1.88, 1.62, 1.50, 1.42, 1.36, 1.34, 1.32, 1.30], \n",
    "              [2.90, 2.26, 1.85, 1.67, 1.56, 1.47, 1.42, 1.38, 1.37],\n",
    "              [3.30, 2.67, 2.14, 1.86, 1.71, 1.60, 1.52, 1.47, 1.45]\n",
    "])\n",
    "f1 = interpolate.interp2d(x, y, z)\n",
    "x  = np.array([0.000, 0.300])\n",
    "y  = np.array([0.110, 0.985])\n",
    "f2 = interpolate.interp1d(x, y)\n",
    "x  = np.array([1.000, 3.000])\n",
    "y  = np.array([0.060, 0.995])\n",
    "f3 = interpolate.interp1d(x, y)\n",
    "def funcion1(valor):\n",
    "    lines1.x = [f2(valor), f2(valor), f2(0)]\n",
    "    lines1.y = [f3(1), f3(f1(valor, FloatSlider2.value)[0]), f3(f1(valor, FloatSlider2.value)[0])]\n",
    "    scatter1.x = [f2(valor)]\n",
    "    scatter1.y = [f3(f1(valor, FloatSlider2.value)[0])]\n",
    "    FloatText1.value = f1(valor, FloatSlider2.value)[0]\n",
    "f_funcion1 = ipw.interactive(funcion1, valor = FloatSlider1)\n",
    "def funcion2(valor):\n",
    "    lines1.x = [f2(FloatSlider1.value), f2(FloatSlider1.value), f2(0)]\n",
    "    lines1.y = [f3(1), f3(f1(FloatSlider1.value, valor)[0]), f3(f1(FloatSlider1.value, valor)[0])]\n",
    "    scatter1.x = [f2(FloatSlider1.value)]\n",
    "    scatter1.y = [f3(f1(FloatSlider1.value, valor)[0])]\n",
    "    FloatText1.value = f1(FloatSlider1.value, valor)[0]\n",
    "f_funcion2 = ipw.interactive(funcion2, valor = FloatSlider2)"
   ]
  },
  {
   "cell_type": "markdown",
   "id": "ed478925",
   "metadata": {
    "cell_style": "center",
    "slideshow": {
     "slide_type": "slide"
    }
   },
   "source": [
    "```python\n",
    "x = np.array([0.00,0.04,0.08,0.12,0.16,0.20,0.24,0.28,0.30])\n",
    "y = np.array([1.02,1.05,1.50])\n",
    "z = np.array([[2.4,1.88,1.62,1.50,1.42,1.36,1.34,1.32,1.30], \n",
    "              [2.9,2.26,1.85,1.67,1.56,1.47,1.42,1.38,1.37],\n",
    "              [3.3,2.67,2.14,1.86,1.71,1.60,1.52,1.47,1.45]\n",
    "])\n",
    "f1 = interpolate.interp2d(x, y, z)\n",
    "```"
   ]
  },
  {
   "cell_type": "markdown",
   "id": "caf465bc",
   "metadata": {
    "slideshow": {
     "slide_type": "slide"
    }
   },
   "source": [
    "$$\n",
    "\\begin{align}\n",
    "\\text{Probability density function:}\\\\\n",
    "\\begin{cases}\n",
    "\\frac{1}{b-a}&\\text{for $x\\in[a,b]$}\\\\\n",
    "0&\\text{otherwise}\\\\\n",
    "\\end{cases}\n",
    "\\\\\n",
    "\\text{Cumulative distribution function:}\\\\\n",
    "\\begin{cases}\n",
    "0&\\text{for $x<a$}\\\\\n",
    "\\frac{x-a}{b-a}&\\text{for $x\\in[a,b)$}\\\\\n",
    "1&\\text{for $x\\ge b$}\\\\\n",
    "\\end{cases}\n",
    "\\end{align}\n",
    "$$"
   ]
  },
  {
   "cell_type": "code",
   "execution_count": 11,
   "id": "ba171ad6",
   "metadata": {
    "slideshow": {
     "slide_type": "slide"
    }
   },
   "outputs": [
    {
     "data": {
      "text/html": [
       "<!-- background-image: url('RetroWave.jpg'); background-size: cover -->\n",
       "<!DOCTYPE html>\n",
       "<html>\n",
       "    <body style=\"background-color: rgb(255, 255, 255);\">\n",
       "    \n",
       "    <h1 style=\"color: cyan; font-size: 41px; font-family: 'Courier New'; background-color: rgb(135, 132, 114); border: 0px; text-align: left; padding: 0px 0px 0px 0px\"><b><center>Dibujando con epiciclos y la transformada de Fourier</center></b></h1>\n",
       "</html>\n"
      ],
      "text/plain": [
       "<IPython.core.display.HTML object>"
      ]
     },
     "metadata": {},
     "output_type": "display_data"
    }
   ],
   "source": [
    "%%html\n",
    "<!-- background-image: url('RetroWave.jpg'); background-size: cover -->\n",
    "<!DOCTYPE html>\n",
    "<html>\n",
    "    <body style=\"background-color: rgb(255, 255, 255);\">\n",
    "    \n",
    "    <h1 style=\"color: cyan; font-size: 41px; font-family: 'Courier New'; background-color: rgb(135, 132, 114); border: 0px; text-align: left; padding: 0px 0px 0px 0px\"><b><center>Dibujando con epiciclos y la transformada de Fourier</center></b></h1>\n",
    "</html>"
   ]
  },
  {
   "cell_type": "markdown",
   "id": "0813d0cd",
   "metadata": {
    "slideshow": {
     "slide_type": "slide"
    }
   },
   "source": [
    "> Text that will be indented when the Markdown is rendered.\n",
    ">> Text that will be indented when the Markdown is rendered."
   ]
  }
 ],
 "metadata": {
  "celltoolbar": "Slideshow",
  "kernelspec": {
   "display_name": "Python 3 (ipykernel)",
   "language": "python",
   "name": "python3"
  },
  "language_info": {
   "codemirror_mode": {
    "name": "ipython",
    "version": 3
   },
   "file_extension": ".py",
   "mimetype": "text/x-python",
   "name": "python",
   "nbconvert_exporter": "python",
   "pygments_lexer": "ipython3",
   "version": "3.7.12"
  }
 },
 "nbformat": 4,
 "nbformat_minor": 5
}
